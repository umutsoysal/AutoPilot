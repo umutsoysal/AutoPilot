{
 "cells": [
  {
   "cell_type": "code",
   "execution_count": 1,
   "metadata": {},
   "outputs": [],
   "source": [
    "#WEATHER PREDICTION"
   ]
  },
  {
   "cell_type": "code",
   "execution_count": 2,
   "metadata": {},
   "outputs": [],
   "source": [
    "import requests, json"
   ]
  },
  {
   "cell_type": "code",
   "execution_count": 3,
   "metadata": {},
   "outputs": [],
   "source": [
    "base_url = \"http://api.openweathermap.org/data/2.5/weather?\"\n",
    "\n",
    "api_key=\"fb839b2b2f7c0848153a3ed54abd99fc\"\n",
    "api_name=\"Default\""
   ]
  },
  {
   "cell_type": "code",
   "execution_count": 4,
   "metadata": {},
   "outputs": [],
   "source": [
    "#city_name = input(\"Enter city name : \") \n",
    "lat=\"42.045\"\n",
    "lon=\"-87.688\""
   ]
  },
  {
   "cell_type": "code",
   "execution_count": 5,
   "metadata": {},
   "outputs": [],
   "source": [
    "complete_url = base_url + \"appid=\" + api_key + \"&lat=\" + lat + \"&lon=\" + lon "
   ]
  },
  {
   "cell_type": "code",
   "execution_count": 6,
   "metadata": {},
   "outputs": [],
   "source": [
    "response = requests.get(complete_url)"
   ]
  },
  {
   "cell_type": "code",
   "execution_count": 7,
   "metadata": {},
   "outputs": [],
   "source": [
    "x = response.json()"
   ]
  },
  {
   "cell_type": "code",
   "execution_count": 8,
   "metadata": {},
   "outputs": [
    {
     "name": "stdout",
     "output_type": "stream",
     "text": [
      " Temperature (in kelvin unit) = 278.07\n",
      " atmospheric pressure (in hPa unit) = 1020\n",
      " humidity (in percentage) = 69\n",
      " description = clear sky\n"
     ]
    }
   ],
   "source": [
    "if x[\"cod\"] != \"404\": \n",
    "  \n",
    "    # store the value of \"main\" \n",
    "    # key in variable y \n",
    "    y = x[\"main\"] \n",
    "  \n",
    "    # store the value corresponding \n",
    "    # to the \"temp\" key of y \n",
    "    current_temperature = y[\"temp\"] \n",
    "  \n",
    "    # store the value corresponding \n",
    "    # to the \"pressure\" key of y \n",
    "    current_pressure = y[\"pressure\"] \n",
    "  \n",
    "    # store the value corresponding \n",
    "    # to the \"humidity\" key of y \n",
    "    current_humidiy = y[\"humidity\"] \n",
    "  \n",
    "    # store the value of \"weather\" \n",
    "    # key in variable z \n",
    "    z = x[\"weather\"] \n",
    "  \n",
    "    # store the value corresponding  \n",
    "    # to the \"description\" key at  \n",
    "    # the 0th index of z \n",
    "    weather_description = z[0][\"description\"] \n",
    "  \n",
    "    # print following values \n",
    "    print(\" Temperature (in kelvin unit) = \" +\n",
    "                    str(current_temperature) + \n",
    "          \"\\n atmospheric pressure (in hPa unit) = \" +\n",
    "                    str(current_pressure) +\n",
    "          \"\\n humidity (in percentage) = \" +\n",
    "                    str(current_humidiy) +\n",
    "          \"\\n description = \" +\n",
    "                    str(weather_description)) \n",
    "  \n",
    "else: \n",
    "    print(\" City Not Found \") "
   ]
  },
  {
   "cell_type": "code",
   "execution_count": 9,
   "metadata": {},
   "outputs": [
    {
     "data": {
      "text/plain": [
       "{'coord': {'lon': -87.69, 'lat': 42.05},\n",
       " 'weather': [{'id': 800,\n",
       "   'main': 'Clear',\n",
       "   'description': 'clear sky',\n",
       "   'icon': '01n'}],\n",
       " 'base': 'stations',\n",
       " 'main': {'temp': 278.07,\n",
       "  'feels_like': 274.99,\n",
       "  'temp_min': 277.04,\n",
       "  'temp_max': 278.71,\n",
       "  'pressure': 1020,\n",
       "  'humidity': 69},\n",
       " 'visibility': 10000,\n",
       " 'wind': {'speed': 1.5, 'deg': 190},\n",
       " 'clouds': {'all': 1},\n",
       " 'dt': 1605148265,\n",
       " 'sys': {'type': 1,\n",
       "  'id': 5453,\n",
       "  'country': 'US',\n",
       "  'sunrise': 1605098196,\n",
       "  'sunset': 1605133996},\n",
       " 'timezone': -21600,\n",
       " 'id': 4891382,\n",
       " 'name': 'Evanston',\n",
       " 'cod': 200}"
      ]
     },
     "execution_count": 9,
     "metadata": {},
     "output_type": "execute_result"
    }
   ],
   "source": [
    "x.name"
   ]
  },
  {
   "cell_type": "code",
   "execution_count": null,
   "metadata": {},
   "outputs": [],
   "source": []
  },
  {
   "cell_type": "code",
   "execution_count": null,
   "metadata": {},
   "outputs": [],
   "source": []
  }
 ],
 "metadata": {
  "kernelspec": {
   "display_name": "Python 3",
   "language": "python",
   "name": "python3"
  },
  "language_info": {
   "codemirror_mode": {
    "name": "ipython",
    "version": 3
   },
   "file_extension": ".py",
   "mimetype": "text/x-python",
   "name": "python",
   "nbconvert_exporter": "python",
   "pygments_lexer": "ipython3",
   "version": "3.7.4"
  }
 },
 "nbformat": 4,
 "nbformat_minor": 2
}
