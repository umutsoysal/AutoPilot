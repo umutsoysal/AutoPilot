{
 "cells": [
  {
   "cell_type": "code",
   "execution_count": null,
   "metadata": {},
   "outputs": [],
   "source": [
    "import pandas as pd\n",
    "import datetime "
   ]
  },
  {
   "cell_type": "markdown",
   "metadata": {},
   "source": [
    "# this notebook is just to try some basic syntax and functions. No need to look"
   ]
  },
  {
   "cell_type": "code",
   "execution_count": null,
   "metadata": {},
   "outputs": [],
   "source": [
    "df = pd.DataFrame([[1, 2], [3, 4]], columns=[\"ahmet\",\"mehmet\"])"
   ]
  },
  {
   "cell_type": "code",
   "execution_count": null,
   "metadata": {},
   "outputs": [],
   "source": [
    "df2 = pd.DataFrame([[5, 6]], columns=[\"ahmet\",\"mehmet\"])\n",
    "df.append(df2)"
   ]
  },
  {
   "cell_type": "code",
   "execution_count": null,
   "metadata": {},
   "outputs": [],
   "source": []
  },
  {
   "cell_type": "code",
   "execution_count": null,
   "metadata": {},
   "outputs": [],
   "source": [
    "from datetime import datetime\n",
    "\n",
    "now = datetime.now()\n",
    "\n",
    "current_time = now.strftime(\"%H:%M:%S\")\n",
    "print(\"Current Time =\", current_time)"
   ]
  },
  {
   "cell_type": "code",
   "execution_count": null,
   "metadata": {},
   "outputs": [],
   "source": [
    "current_time"
   ]
  },
  {
   "cell_type": "code",
   "execution_count": null,
   "metadata": {},
   "outputs": [],
   "source": [
    "df= pd.read_csv(\"coordinates.csv\",delimiter=\",\", index_col=0)"
   ]
  },
  {
   "cell_type": "code",
   "execution_count": null,
   "metadata": {},
   "outputs": [],
   "source": [
    "df"
   ]
  },
  {
   "cell_type": "code",
   "execution_count": null,
   "metadata": {},
   "outputs": [],
   "source": [
    "dfLatest=pd.DataFrame([[current_time,44, 22]], columns=[\"timestamp\",\"latitude\",\"longitude\"])"
   ]
  },
  {
   "cell_type": "code",
   "execution_count": null,
   "metadata": {},
   "outputs": [],
   "source": [
    "dfLatest=dfLatest.set_index(\"timestamp\")"
   ]
  },
  {
   "cell_type": "code",
   "execution_count": null,
   "metadata": {},
   "outputs": [],
   "source": [
    "df=df.append(dfLatest)"
   ]
  },
  {
   "cell_type": "code",
   "execution_count": null,
   "metadata": {},
   "outputs": [],
   "source": [
    "df"
   ]
  },
  {
   "cell_type": "code",
   "execution_count": null,
   "metadata": {},
   "outputs": [],
   "source": [
    "df.to_csv(\"test1.csv\", encoding='utf-8', index=True)"
   ]
  },
  {
   "cell_type": "code",
   "execution_count": null,
   "metadata": {},
   "outputs": [],
   "source": []
  },
  {
   "cell_type": "code",
   "execution_count": null,
   "metadata": {},
   "outputs": [],
   "source": [
    "now = datetime.now()\n",
    "current_time = now.strftime(\"%H:%M:%S\")\n",
    "\n",
    "df= pd.read_csv(\"coordinates.csv\",delimiter=\",\", index_col=0)\n",
    "#log the position \n",
    "dfLatest=pd.DataFrame([[current_time,55, 33]], columns=[\"timestamp\",\"latitude\",\"latitude\"])\n",
    "dfLatest=dfLatest.set_index(\"timestamp\")\n",
    "df.append(dfLatest)\n",
    "\n",
    "time.sleep(60)\n",
    "print(\"Logging\")\n",
    "df.to_csv(\"coordinates.csv\", encoding='utf-8', index=True)"
   ]
  },
  {
   "cell_type": "code",
   "execution_count": null,
   "metadata": {},
   "outputs": [],
   "source": [
    "current_time"
   ]
  },
  {
   "cell_type": "code",
   "execution_count": null,
   "metadata": {},
   "outputs": [],
   "source": [
    "df= pd.read_csv(\"coordinates.csv\",delimiter=\",\", index_col=0)"
   ]
  },
  {
   "cell_type": "code",
   "execution_count": null,
   "metadata": {},
   "outputs": [],
   "source": [
    "df"
   ]
  },
  {
   "cell_type": "code",
   "execution_count": null,
   "metadata": {},
   "outputs": [],
   "source": [
    "dfLatest"
   ]
  },
  {
   "cell_type": "code",
   "execution_count": null,
   "metadata": {},
   "outputs": [],
   "source": [
    "df.append(dfLatest)"
   ]
  },
  {
   "cell_type": "code",
   "execution_count": null,
   "metadata": {},
   "outputs": [],
   "source": [
    "from geopy import Point\n",
    "from geopy.distance import distance, VincentyDistance\n",
    "\n",
    "# given: lat1, lon1, bearing, distMiles\n",
    "lat2, lon2 = VincentyDistance(miles=distMiles).destination(Point(lat1, lon1), bearing)"
   ]
  },
  {
   "cell_type": "code",
   "execution_count": null,
   "metadata": {},
   "outputs": [],
   "source": [
    "import math\n",
    "\n",
    "R = 6378.1 #Radius of the Earth\n",
    "brng = 1.57 #Bearing is 90 degrees converted to radians.\n",
    "d = 15 #Distance in km\n",
    "\n",
    "#lat2  52.20444 - the lat result I'm hoping for\n",
    "#lon2  0.36056 - the long result I'm hoping for.\n",
    "\n",
    "lat1 = math.radians(52.20472) #Current lat point converted to radians\n",
    "lon1 = math.radians(0.14056) #Current long point converted to radians\n",
    "\n",
    "lat2 = math.asin( math.sin(lat1)*math.cos(d/R) +\n",
    "     math.cos(lat1)*math.sin(d/R)*math.cos(brng))\n",
    "\n",
    "lon2 = lon1 + math.atan2(math.sin(brng)*math.sin(d/R)*math.cos(lat1),\n",
    "             math.cos(d/R)-math.sin(lat1)*math.sin(lat2))\n",
    "\n",
    "lat2 = math.degrees(lat2)\n",
    "lon2 = math.degrees(lon2)\n",
    "\n",
    "print(lat2)\n",
    "print(lon2)\n"
   ]
  },
  {
   "cell_type": "code",
   "execution_count": 16,
   "metadata": {},
   "outputs": [],
   "source": [
    "import pandas as pd\n",
    "from scipy import interpolate\n",
    "import numpy as np"
   ]
  },
  {
   "cell_type": "code",
   "execution_count": 17,
   "metadata": {},
   "outputs": [],
   "source": [
    "df=pd.read_csv(\"PolarDiagrams/Book1.csv\")"
   ]
  },
  {
   "cell_type": "code",
   "execution_count": 18,
   "metadata": {},
   "outputs": [
    {
     "name": "stdout",
     "output_type": "stream",
     "text": [
      "4\n",
      "90.0\n",
      "75.0\n"
     ]
    }
   ],
   "source": [
    "windAng=88\n",
    "windSpeed=9\n",
    "\n",
    "closest_row_index = df['twa/tws'].sub(windAng).abs().idxmin()\n",
    "print(closest_row_index)\n",
    "closest_value=df.iloc[closest_row_index]['twa/tws']\n",
    "print(closest_value)\n",
    "\n",
    "if (windAng==closest_value):\n",
    "    secondcloserRowInd=closest_row_index\n",
    "elif (windAng>closest_value):\n",
    "    secondcloserRowInd=closest_row_index+1  \n",
    "else:\n",
    "    secondcloserRowInd=closest_row_index-1\n",
    "\n",
    "print(df.iloc[secondcloserColInd]['twa/tws'])\n"
   ]
  },
  {
   "cell_type": "code",
   "execution_count": 19,
   "metadata": {},
   "outputs": [
    {
     "data": {
      "text/plain": [
       "7.5"
      ]
     },
     "execution_count": 19,
     "metadata": {},
     "output_type": "execute_result"
    }
   ],
   "source": [
    "angles=df['twa/tws']\n",
    "angles\n",
    "df.columns[1:]\n",
    "test_list=df.columns[1:].tolist()\n",
    "for i in range(0, len(test_list)): \n",
    "    test_list[i] = int(test_list[i]) \n",
    "\n",
    "speed=9\n",
    "\n",
    "def closest(lst, K):       \n",
    "    return lst[min(range(len(lst)), key = lambda i: abs(lst[i]-K))] \n",
    "\n",
    "closestColValue=closest(test_list,speed)\n",
    "\n",
    "closestColIndex = test_list.index(closestColValue)\n",
    "\n",
    "if (closestColValue==speed):\n",
    "    secondindex=closestColIndex\n",
    "elif (closestColValue<speed):\n",
    "    secondColindex=closestColIndex+1\n",
    "else:\n",
    "    secondColindex=closestColIndex-1\n",
    "\n",
    "\n",
    "estimatedBoatSpeed=(df.iloc[closest_row_index][closestColIndex]+df.iloc[secondcloserRowInd][closestColIndex]+df.iloc[closest_row_index][secondColindex]+df.iloc[secondcloserRowInd][secondColindex])/4\n",
    "estimatedBoatSpeed"
   ]
  },
  {
   "cell_type": "code",
   "execution_count": 21,
   "metadata": {},
   "outputs": [
    {
     "data": {
      "text/html": [
       "<div>\n",
       "<style scoped>\n",
       "    .dataframe tbody tr th:only-of-type {\n",
       "        vertical-align: middle;\n",
       "    }\n",
       "\n",
       "    .dataframe tbody tr th {\n",
       "        vertical-align: top;\n",
       "    }\n",
       "\n",
       "    .dataframe thead th {\n",
       "        text-align: right;\n",
       "    }\n",
       "</style>\n",
       "<table border=\"1\" class=\"dataframe\">\n",
       "  <thead>\n",
       "    <tr style=\"text-align: right;\">\n",
       "      <th></th>\n",
       "      <th>twa/tws</th>\n",
       "      <th>6</th>\n",
       "      <th>8</th>\n",
       "      <th>10</th>\n",
       "      <th>12</th>\n",
       "      <th>14</th>\n",
       "      <th>16</th>\n",
       "      <th>20</th>\n",
       "    </tr>\n",
       "  </thead>\n",
       "  <tbody>\n",
       "    <tr>\n",
       "      <th>0</th>\n",
       "      <td>0</td>\n",
       "      <td>0.00</td>\n",
       "      <td>0.00</td>\n",
       "      <td>0.00</td>\n",
       "      <td>0.00</td>\n",
       "      <td>0.00</td>\n",
       "      <td>0.00</td>\n",
       "      <td>0.00</td>\n",
       "    </tr>\n",
       "    <tr>\n",
       "      <th>1</th>\n",
       "      <td>52</td>\n",
       "      <td>6.42</td>\n",
       "      <td>7.51</td>\n",
       "      <td>7.87</td>\n",
       "      <td>8.01</td>\n",
       "      <td>8.10</td>\n",
       "      <td>8.21</td>\n",
       "      <td>8.36</td>\n",
       "    </tr>\n",
       "    <tr>\n",
       "      <th>2</th>\n",
       "      <td>60</td>\n",
       "      <td>6.81</td>\n",
       "      <td>7.74</td>\n",
       "      <td>8.09</td>\n",
       "      <td>8.28</td>\n",
       "      <td>8.40</td>\n",
       "      <td>8.49</td>\n",
       "      <td>8.75</td>\n",
       "    </tr>\n",
       "    <tr>\n",
       "      <th>3</th>\n",
       "      <td>75</td>\n",
       "      <td>7.12</td>\n",
       "      <td>7.90</td>\n",
       "      <td>8.36</td>\n",
       "      <td>8.74</td>\n",
       "      <td>8.96</td>\n",
       "      <td>9.11</td>\n",
       "      <td>9.39</td>\n",
       "    </tr>\n",
       "    <tr>\n",
       "      <th>4</th>\n",
       "      <td>90</td>\n",
       "      <td>7.08</td>\n",
       "      <td>7.90</td>\n",
       "      <td>8.41</td>\n",
       "      <td>8.96</td>\n",
       "      <td>9.43</td>\n",
       "      <td>9.76</td>\n",
       "      <td>10.12</td>\n",
       "    </tr>\n",
       "    <tr>\n",
       "      <th>5</th>\n",
       "      <td>110</td>\n",
       "      <td>6.86</td>\n",
       "      <td>7.96</td>\n",
       "      <td>8.51</td>\n",
       "      <td>8.93</td>\n",
       "      <td>9.36</td>\n",
       "      <td>9.81</td>\n",
       "      <td>11.09</td>\n",
       "    </tr>\n",
       "    <tr>\n",
       "      <th>6</th>\n",
       "      <td>120</td>\n",
       "      <td>6.68</td>\n",
       "      <td>7.90</td>\n",
       "      <td>8.60</td>\n",
       "      <td>9.24</td>\n",
       "      <td>9.69</td>\n",
       "      <td>10.16</td>\n",
       "      <td>11.35</td>\n",
       "    </tr>\n",
       "    <tr>\n",
       "      <th>7</th>\n",
       "      <td>135</td>\n",
       "      <td>6.06</td>\n",
       "      <td>7.48</td>\n",
       "      <td>8.22</td>\n",
       "      <td>8.96</td>\n",
       "      <td>9.83</td>\n",
       "      <td>10.83</td>\n",
       "      <td>12.45</td>\n",
       "    </tr>\n",
       "    <tr>\n",
       "      <th>8</th>\n",
       "      <td>150</td>\n",
       "      <td>5.11</td>\n",
       "      <td>6.43</td>\n",
       "      <td>7.47</td>\n",
       "      <td>8.17</td>\n",
       "      <td>8.84</td>\n",
       "      <td>9.59</td>\n",
       "      <td>11.70</td>\n",
       "    </tr>\n",
       "  </tbody>\n",
       "</table>\n",
       "</div>"
      ],
      "text/plain": [
       "   twa/tws     6     8    10    12    14     16     20\n",
       "0        0  0.00  0.00  0.00  0.00  0.00   0.00   0.00\n",
       "1       52  6.42  7.51  7.87  8.01  8.10   8.21   8.36\n",
       "2       60  6.81  7.74  8.09  8.28  8.40   8.49   8.75\n",
       "3       75  7.12  7.90  8.36  8.74  8.96   9.11   9.39\n",
       "4       90  7.08  7.90  8.41  8.96  9.43   9.76  10.12\n",
       "5      110  6.86  7.96  8.51  8.93  9.36   9.81  11.09\n",
       "6      120  6.68  7.90  8.60  9.24  9.69  10.16  11.35\n",
       "7      135  6.06  7.48  8.22  8.96  9.83  10.83  12.45\n",
       "8      150  5.11  6.43  7.47  8.17  8.84   9.59  11.70"
      ]
     },
     "execution_count": 21,
     "metadata": {},
     "output_type": "execute_result"
    }
   ],
   "source": [
    "df"
   ]
  },
  {
   "cell_type": "code",
   "execution_count": 22,
   "metadata": {},
   "outputs": [
    {
     "data": {
      "text/plain": [
       "7.08"
      ]
     },
     "execution_count": 22,
     "metadata": {},
     "output_type": "execute_result"
    }
   ],
   "source": [
    "df.iloc[closest_row_index][closestColIndex]"
   ]
  },
  {
   "cell_type": "code",
   "execution_count": null,
   "metadata": {},
   "outputs": [],
   "source": []
  }
 ],
 "metadata": {
  "kernelspec": {
   "display_name": "Python 3",
   "language": "python",
   "name": "python3"
  },
  "language_info": {
   "codemirror_mode": {
    "name": "ipython",
    "version": 3
   },
   "file_extension": ".py",
   "mimetype": "text/x-python",
   "name": "python",
   "nbconvert_exporter": "python",
   "pygments_lexer": "ipython3",
   "version": "3.7.4"
  }
 },
 "nbformat": 4,
 "nbformat_minor": 2
}
